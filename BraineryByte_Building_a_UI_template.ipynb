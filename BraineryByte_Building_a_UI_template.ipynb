{
 "cells": [
  {
   "cell_type": "markdown",
   "id": "46ac7348",
   "metadata": {},
   "source": [
    "<font size=\"4\" face=\"verdana\" color=\"red\"> Brainery Byte\n",
    "<hr></font>\n",
    "<font size=\"6\" face=\"verdana\" color=\"blue\"> <b>Building an Interactive User Interface <br>in Jupyter Notebook</b> <br>\n",
    "    >> Building A Shopping List <<\n",
    "    <br>\n",
    "<br>\n",
    "</font><p>\n",
    "\n",
    "<font size=\"4\" face=\"verdana\" color=\"black\">\n",
    " R211014 <br>\n",
    " Silvia Mazzoni, 2021 <br>\n",
    "      silviamazzoni@yahoo.com <br>\n",
    "\n",
    "<br>\n",
    "The objective of this workbook is to help you assemble the building blocks of an interactive user interface.<br>\n",
    "    <p>\n",
    "    \n",
    "<font size=\"4\" face=\"verdana\" color=\"black\">\n",
    "    <b>Widgets:</b>\n",
    "    <p>Widgets are what makes Jupyter Notebooks so awesome! \n",
    "Here is where I get my info on building <a href = \"https://ipywidgets.readthedocs.io/en/latest/examples/Widget%20List.html\"> WIDGETS </a></p>\n",
    "    <br>\n",
    "<ol type=\"1\">\n",
    "  <li>Text Entry</li>\n",
    "  <li>Pull-Down Menus</li>\n",
    "  <li>Radio Buttons</li>\n",
    "  <li>Checkboxes</li>\n",
    "  <li>Action Buttons</li>\n",
    "  <li>Accordion boxes</li>\n",
    "  <li>Embedded Videos</li>\n",
    "    <li>Sliders </li>\n",
    "    <br>\n",
    "\n",
    "</ol>\n",
    "</font>\n",
    "<font size=\"3\" face=\"verdana\" color=\"black\">\n",
    "   <br>\n",
    "    <b>NOTES:</b>\n",
    "    <ol>\n",
    "        <li> This is where you put notes.</li>\n",
    "        <ol type=\"1\">\n",
    "            <li> <a href = \"https://www.silviasbrainery.com\"> Here is a Hypterlink to my web site</a> with additional text</li>\n",
    "            <li> <a href = \"https://youtu.be/CTqG3GbB0i0\"> Here is a hyperlink to a video</a></li>\n",
    "        </ol>\n",
    "        <li> Here is another line in the outline </li>\n",
    "    </ol>\n",
    "</font>\n",
    "    \n",
    "<BR>\n",
    "    \n",
    "When you are done, you can write simple text\n",
    "\n",
    "Because we are working in Binder, and Binder sessions are meant to be ephemeral, it is not possible for you to save any changes you make to your Jupyter Notebook. If you do make changes or notes, you will need to download the notebook to your own computer by clicking File > Download as > Notebook (.ipynb). The only way you will be able to run these is if you have the appropriate software to run Jupyter Notebooks in Python and pip install OpenSeesPy and eSEESminiPy in your Python configuration. You may view my videos on how to install Anaconda, Jupyter Notebooks and OpenSeesPy (https://www.youtube.com/c/silviasbrainery).\n",
    "    \n",
    "This Code has been developed by Silvia Mazzoni. Please acknowledge this in your scripts, when applicable"
   ]
  },
  {
   "cell_type": "code",
   "execution_count": null,
   "id": "91811a4c",
   "metadata": {},
   "outputs": [],
   "source": [
    "#Here is an example of embedding a video into your Notebook\n",
    "from IPython.lib.display import YouTubeVideo\n",
    "YouTubeVideo('8AFhbeVl3qY')"
   ]
  },
  {
   "cell_type": "markdown",
   "id": "022b95f9",
   "metadata": {},
   "source": [
    "# Initialize Python:"
   ]
  },
  {
   "cell_type": "code",
   "execution_count": null,
   "id": "d8ab0042",
   "metadata": {},
   "outputs": [],
   "source": [
    "# pip install these packages if you are running this locally\n",
    "from ipywidgets import widgets, Output\n",
    "from ipywidgets import interact, interactive, fixed, interact_manual, Layout\n",
    "from IPython.display import display\n",
    "from IPython.display import clear_output\n",
    "from IPython.display import HTML\n",
    "from IPython.display import Image\n",
    "from IPython.display import Javascript"
   ]
  },
  {
   "cell_type": "code",
   "execution_count": null,
   "id": "03c80a30",
   "metadata": {},
   "outputs": [],
   "source": [
    "%%javascript\n",
    "IPython.OutputArea.auto_scroll_threshold = 100000;"
   ]
  },
  {
   "cell_type": "markdown",
   "id": "ed93d123",
   "metadata": {},
   "source": [
    "## Initalize Widget Data"
   ]
  },
  {
   "cell_type": "code",
   "execution_count": null,
   "id": "6afbf720",
   "metadata": {},
   "outputs": [],
   "source": [
    "AllWidgetData = {}\n",
    "outBucketData = {}"
   ]
  },
  {
   "cell_type": "markdown",
   "id": "5d306605",
   "metadata": {},
   "source": [
    "## Create a header for your UI. put this into a widget so you can display it anywhere"
   ]
  },
  {
   "cell_type": "code",
   "execution_count": null,
   "id": "99670062",
   "metadata": {},
   "outputs": [],
   "source": [
    "outBucketData['Header'] = Output()\n",
    "def createHeader():\n",
    "    label_TopHeader = widgets.HTML(value = \"\"\"<font color=\"#D94496\"><h1>My Interactive Shopping List</h1></font>\n",
    "    <p>\n",
    "    Developed by Silvia Mazzoni<br>\n",
    "    Let's do some shopping. \"\"\")\n",
    "    thisContainer = widgets.VBox(display='wrap',flex_wrap='wrap',children=[label_TopHeader],border='1px solid blue')\n",
    "    return thisContainer\n",
    "    \n",
    "def displayHeader(thisOut):\n",
    "    thisContainer = createHeader()\n",
    "    thisOut.clear_output()\n",
    "    with thisOut:\n",
    "        display(thisContainer)\n",
    "    display(thisOut)\n",
    "    \n",
    "\n",
    "# displayHeader(outBucketData['Header'])\n"
   ]
  },
  {
   "cell_type": "markdown",
   "id": "5541e2dd",
   "metadata": {},
   "source": [
    "# Create nice formatted header, user-input"
   ]
  },
  {
   "cell_type": "code",
   "execution_count": null,
   "id": "d6efc9d8",
   "metadata": {},
   "outputs": [],
   "source": [
    "def makeSectionHeaderWidget(text):\n",
    "    thisWidget = widgets.HTML(value = \"\"\"<font color=\"#D47088\"><h3>\"\"\" + text + \"\"\"</h3></font>\"\"\")\n",
    "    return thisWidget"
   ]
  },
  {
   "cell_type": "markdown",
   "id": "95516597",
   "metadata": {},
   "source": [
    "## Create Pull-Down Menu Widget"
   ]
  },
  {
   "cell_type": "code",
   "execution_count": null,
   "id": "e9c7f290",
   "metadata": {},
   "outputs": [],
   "source": [
    "def makeDropdownMenu(defValue,MenuArray,descrip):\n",
    "    thisWidget = widgets.Dropdown(\n",
    "        options=MenuArray,\n",
    "        value=defValue,\n",
    "        description=descrip,\n",
    "        continuous_update=True,\n",
    "        disabled=False,\n",
    "    )\n",
    "    return thisWidget\n"
   ]
  },
  {
   "cell_type": "markdown",
   "id": "65d70bf7",
   "metadata": {},
   "source": [
    "## Store Data"
   ]
  },
  {
   "cell_type": "code",
   "execution_count": null,
   "id": "51a7cfef",
   "metadata": {},
   "outputs": [],
   "source": [
    "StoreData = {}\n",
    "StoreData['Costco'] = {'Address': 'here','Travel Time':10}\n",
    "StoreData['TraderJoes'] = {'Address': 'there','Travel Time':22}\n",
    "StoreData['Ralphs'] = {'Address': 'somewhere','Travel Time':5}"
   ]
  },
  {
   "cell_type": "markdown",
   "id": "0e85389a",
   "metadata": {},
   "source": [
    "## Create Pull-Down Menu for Store"
   ]
  },
  {
   "cell_type": "code",
   "execution_count": null,
   "id": "b570ca88",
   "metadata": {},
   "outputs": [],
   "source": [
    "SelectStore_Default = 'Costco'\n",
    "outBucketData['StoreSelector'] = Output()\n",
    "\n",
    "def updateStoreData(thisStore):\n",
    "    AllWidgetData['MyStore'].value='My Store: ' + thisStore\n",
    "    AllWidgetData['Address'].value='Address: ' + str(StoreData[thisStore]['Address'])\n",
    "    AllWidgetData['MyStoreTravelTime'].value='Travel Time: ' + str(StoreData[thisStore]['Travel Time'])\n",
    "\n",
    "    \n",
    "def SelectStore_eventhandler(change):\n",
    "    thisStore = change.new\n",
    "    updateStoreData(thisStore)\n",
    "    \n",
    "    \n",
    "def makeStoreSelector():\n",
    "    thisSectionHeader = makeSectionHeaderWidget('Store')\n",
    "    SelectStore_Options = StoreData.keys()\n",
    "    SelectStore_Descript = 'Select Store'\n",
    "    AllWidgetData['SelectStore'] = makeDropdownMenu(SelectStore_Default,SelectStore_Options,SelectStore_Descript)\n",
    "    thisContainer = widgets.VBox(children=[thisSectionHeader,AllWidgetData['SelectStore']])\n",
    "    AllWidgetData['SelectStore'].observe(SelectStore_eventhandler, names='value')\n",
    "    \n",
    "    return thisContainer\n",
    "  \n",
    "def displayStoreSelector(thisOut):\n",
    "    thisContainer = makeStoreSelector()\n",
    "    thisOut.clear_output()\n",
    "    with thisOut:\n",
    "        display(thisContainer)\n",
    "    display(thisOut)\n",
    "    \n",
    "# displayStoreSelector(outBucketData['StoreSelector'])"
   ]
  },
  {
   "cell_type": "markdown",
   "id": "d637a95d",
   "metadata": {},
   "source": [
    "## Display Store Data"
   ]
  },
  {
   "cell_type": "code",
   "execution_count": null,
   "id": "0521cf3d",
   "metadata": {},
   "outputs": [],
   "source": [
    "outBucketData['StoreData'] = Output()\n",
    "\n",
    "def makeStoreData(thisStore):\n",
    "    thisSectionHeader = makeSectionHeaderWidget('Store Info')\n",
    "    AllWidgetData['MyStore'] = widgets.Label(value='My Store: ' + thisStore)\n",
    "    AllWidgetData['Address'] = widgets.Label(value='Address: ' + str(StoreData[thisStore]['Address']))\n",
    "    AllWidgetData['MyStoreTravelTime'] = widgets.Label(value='Travel Time: ' + str(StoreData[thisStore]['Travel Time']))\n",
    "    thisContainer = widgets.VBox(children=[thisSectionHeader,AllWidgetData['MyStore'],AllWidgetData['Address'],AllWidgetData['MyStoreTravelTime']])\n",
    "    return thisContainer\n",
    "\n",
    "def DisplayStoreData(thisStore,thisOut):\n",
    "    thisContainer = makeStoreData(thisStore)\n",
    "    thisOut.clear_output()\n",
    "    with thisOut:\n",
    "        display(thisContainer)\n",
    "    display(thisOut)\n",
    "    \n",
    "# DisplayStoreData(SelectStore_Default,outBucketData['StoreData'])"
   ]
  },
  {
   "cell_type": "markdown",
   "id": "fa778ccd",
   "metadata": {},
   "source": [
    "# Shopping Items"
   ]
  },
  {
   "cell_type": "code",
   "execution_count": null,
   "id": "f30f5de0",
   "metadata": {},
   "outputs": [],
   "source": [
    "ShoppingItems = {'FRUITS':{'Bananas':{'price':10,'default':0},\n",
    "                           'Apples':{'price':25,'default':1},\n",
    "                           'Oranges':{'price':33,'default':6}},\n",
    "                 'CARBS':{'Rice':{'price':37,'default':3},\n",
    "                          'Pasta':{'price':27,'default':2},\n",
    "                          'Bread':{'price':15,'default':1}}}"
   ]
  },
  {
   "cell_type": "markdown",
   "id": "4eb516b4",
   "metadata": {},
   "source": [
    "## Create Checkbox"
   ]
  },
  {
   "cell_type": "code",
   "execution_count": null,
   "id": "f2fcbd1c",
   "metadata": {},
   "outputs": [],
   "source": [
    "def makeCheckbox(defValue,descrip):\n",
    "    thisWidget = widgets.Checkbox(\n",
    "        value=defValue,\n",
    "        description=descrip,\n",
    "        disabled=False,\n",
    "        indent=False\n",
    "    )\n",
    "    return thisWidget\n",
    "\n"
   ]
  },
  {
   "cell_type": "markdown",
   "id": "fe3b9458",
   "metadata": {},
   "source": [
    "## Create Slider for quantity"
   ]
  },
  {
   "cell_type": "code",
   "execution_count": null,
   "id": "5ebb14b6",
   "metadata": {},
   "outputs": [],
   "source": [
    "def makeFloatSlider(defValue,RangeArray,descrip):\n",
    "    thisSlider = widgets.FloatSlider(\n",
    "        value=defValue,\n",
    "        min=RangeArray[0],\n",
    "        max=RangeArray[2],\n",
    "        step=RangeArray[1],\n",
    "        description= descrip,\n",
    "        disabled=False,\n",
    "        continuous_update=True,\n",
    "        orientation='horizontal',\n",
    "        readout=True\n",
    "    )\n",
    "    return thisSlider"
   ]
  },
  {
   "cell_type": "markdown",
   "id": "d47fad4e",
   "metadata": {},
   "source": [
    "## Select Items and Amount:"
   ]
  },
  {
   "cell_type": "code",
   "execution_count": null,
   "id": "435be44d",
   "metadata": {},
   "outputs": [],
   "source": [
    "outBucketData['ShoppingItems'] = Output()\n",
    "defValue = False\n",
    "\n",
    "def makeShoppingItemsDisplay():\n",
    "    thisSectionHeader = makeSectionHeaderWidget('Shopping Items')\n",
    "    thisWidgetList_H = []\n",
    "    for ItemType,ItemData in ShoppingItems.items():\n",
    "        typeLabelWidget = widgets.Label(value=ItemType)\n",
    "        thisWidgetList_here = []\n",
    "        for thisItem,thisItemData in ItemData.items():\n",
    "            thisPrice = ShoppingItems[ItemType][thisItem]['price']\n",
    "            thisWidget=makeCheckbox(defValue,thisItem + ' (' + str(thisPrice) + '/unit)')\n",
    "            thisDefaultAmt = ShoppingItems[ItemType][thisItem]['default']\n",
    "            thisLabel = '(def=' + str(thisDefaultAmt)+')'\n",
    "            AmountRange = [0,1,20]\n",
    "            thisSliderWidget = makeFloatSlider(thisDefaultAmt,AmountRange,thisLabel)\n",
    "            thisContainer = widgets.HBox(display='wrap',flex_wrap='wrap',children=[thisSliderWidget,thisWidget])\n",
    "            thisWidgetList_here.append(thisContainer)\n",
    "            AllWidgetData[thisItem+'CheckBox'] = thisWidget\n",
    "            AllWidgetData[thisItem+'Amount'] = thisSliderWidget\n",
    "        thisContainer = widgets.VBox(display='wrap',flex_wrap='wrap',children=[typeLabelWidget,*thisWidgetList_here])\n",
    "        thisWidgetList_H.append(thisContainer)\n",
    "    thisHBox = widgets.VBox(display='wrap',flex_wrap='wrap',children=thisWidgetList_H)\n",
    "    thisContainer=widgets.VBox(display='wrap',flex_wrap='wrap',children=[thisSectionHeader,thisHBox])\n",
    "    return thisContainer\n",
    "  \n",
    "\n",
    "def displayShoppingItemsDisplay(thisOut):\n",
    "    thisContainer = makeShoppingItemsDisplay()\n",
    "    thisOut.clear_output()\n",
    "    with thisOut:\n",
    "        display(thisContainer)\n",
    "    display(thisOut)   \n",
    "    \n",
    "    \n",
    "# displayShoppingItemsDisplay(outBucketData['ShoppingItems'])\n",
    "    "
   ]
  },
  {
   "cell_type": "markdown",
   "id": "b328d340",
   "metadata": {},
   "source": [
    "# Create Radio Buttons for Hot Items"
   ]
  },
  {
   "cell_type": "code",
   "execution_count": null,
   "id": "9d5e8647",
   "metadata": {},
   "outputs": [],
   "source": [
    "HotItems = {'Chicken':{'Whole':10,'Half':7,'None':0},'Ribs':{'FullRack':12,'HalfRack':8,'None':0}}\n",
    "display(HotItems)\n"
   ]
  },
  {
   "cell_type": "code",
   "execution_count": null,
   "id": "1ad56693",
   "metadata": {},
   "outputs": [],
   "source": [
    "def makeRadioButtons(defValue,MenuArray,descrip):\n",
    "    thisWidget = widgets.RadioButtons(\n",
    "        options=MenuArray,\n",
    "        value=defValue,\n",
    "    #    layout={'width': 'max-content'}, # If the items' names are long\n",
    "        description=descrip,\n",
    "        disabled=False\n",
    "    )\n",
    "    return thisWidget\n"
   ]
  },
  {
   "cell_type": "code",
   "execution_count": null,
   "id": "ca5c018d",
   "metadata": {},
   "outputs": [],
   "source": [
    "outBucketData['HotItems'] = Output()\n",
    "PriceWidget = {}\n",
    "\n",
    "def HotItems_eventhandler(change):\n",
    "    updateHotItemsDisplay()\n",
    "    \n",
    "def updateHotItemsDisplay():\n",
    "    TotalHotPrice = 0\n",
    "    for ItemType,ItemData in HotItems.items():\n",
    "        thisItemValue = AllWidgetData[ItemType].value\n",
    "        thisItemPrice = HotItems[ItemType][thisItemValue]\n",
    "        PriceWidget[ItemType].value = ItemType + ' Price: ' + str(thisItemPrice)\n",
    "        TotalHotPrice = TotalHotPrice + float(thisItemPrice)\n",
    "    PriceWidget['TotalHotPrice'].value = 'Total HotItems Price: ' + str(TotalHotPrice)\n",
    "    \n",
    "def makeHotItemsDisplay():\n",
    "    thisSectionHeader = makeSectionHeaderWidget('Hot Items')\n",
    "    thisWidgetList_V = []\n",
    "    TotalHotPrice = 0\n",
    "    for ItemType,ItemData in HotItems.items():\n",
    "        theseOptions = ItemData.keys()\n",
    "        thisDef = 'None'\n",
    "        AllWidgetData[ItemType] =makeRadioButtons(thisDef,theseOptions,ItemType)\n",
    "        PriceWidget[ItemType] = widgets.Label(value=ItemType + ' Price: ' + str(HotItems[ItemType][thisDef]) ,  fontsize=20, color = '#ff0000',border='3 px solid red')\n",
    "        thisContainer=widgets.HBox(children=[AllWidgetData[ItemType],PriceWidget[ItemType]])\n",
    "        thisWidgetList_V.append(thisContainer)\n",
    "        TotalHotPrice = TotalHotPrice + HotItems[ItemType][thisDef]\n",
    "        AllWidgetData[ItemType].observe(HotItems_eventhandler, names='value')\n",
    "    PriceWidget['TotalHotPrice'] = widgets.Label(value='Total HotItems Price: ' + str(TotalHotPrice) ,  fontsize=20, color = '#ff0000',border='3 px solid red')\n",
    "    thisContainer = widgets.VBox(children=[thisSectionHeader,*thisWidgetList_V,PriceWidget['TotalHotPrice']])\n",
    "    return thisContainer\n",
    "    \n",
    "def displayHotItemsDisplay(thisOut):\n",
    "    thisContainer = makeHotItemsDisplay()\n",
    "    thisOut.clear_output()\n",
    "    with thisOut:\n",
    "        display(thisContainer)\n",
    "    display(thisOut)\n",
    "    \n",
    "# displayHotItemsDisplay(outBucketData['HotItems'])"
   ]
  },
  {
   "cell_type": "markdown",
   "id": "4d68592c",
   "metadata": {},
   "source": [
    "## Entry Widget for Extras"
   ]
  },
  {
   "cell_type": "code",
   "execution_count": null,
   "id": "3f26d8cd",
   "metadata": {},
   "outputs": [],
   "source": [
    "def makeTextEntryWidget(defValue,descrip,placeholder = ''):\n",
    "    thisWidget = widgets.Text(\n",
    "        value=defValue,\n",
    "        placeholder=placeholder,\n",
    "        description=descrip,\n",
    "        #layout=widgets.Layout(width='75%', height='40px'),\n",
    "        continuous_update=True,\n",
    "        disabled=False\n",
    "    )\n",
    "    return thisWidget\n",
    "\n",
    "def makeFloatEntryWidget(defValue,descrip,placeholder = ''):\n",
    "    thisWidget = makeTextEntryWidget(str(defValue),descrip,placeholder)\n",
    "    return thisWidget\n"
   ]
  },
  {
   "cell_type": "code",
   "execution_count": null,
   "id": "7a34adf2",
   "metadata": {},
   "outputs": [],
   "source": [
    "outBucketData['Extras'] = Output()\n",
    "ExtrasLabelWidget = {}\n",
    "ExtrasPriceWidget = {}\n",
    "\n",
    "def makeExtrasDisplay():\n",
    "    thisSectionHeader = makeSectionHeaderWidget('Extras')\n",
    "    thisExtraWidgetList = [thisSectionHeader]\n",
    "    for i in range(5):\n",
    "        ExtrasLabelWidget[str(i)] = makeTextEntryWidget('','','Enter Item Description')\n",
    "        ExtrasPriceWidget[str(i)] = makeTextEntryWidget('','','Enter Item Price')\n",
    "        thisContainer = widgets.HBox(children=[ExtrasLabelWidget[str(i)],ExtrasPriceWidget[str(i)]])\n",
    "        thisExtraWidgetList.append(thisContainer)\n",
    "    thisContainer = widgets.VBox(children=thisExtraWidgetList)\n",
    "    return thisContainer\n",
    "\n",
    "def dispalyExtrasDisplay(thisOut):\n",
    "    thisContainer = makeExtrasDisplay()\n",
    "    thisOut.clear_output()\n",
    "    with thisOut:\n",
    "        display(thisContainer)\n",
    "    display(thisOut)\n",
    "\n",
    "# dispalyExtrasDisplay(outBucketData['Extras'])\n"
   ]
  },
  {
   "cell_type": "markdown",
   "id": "f394ad1a",
   "metadata": {},
   "source": [
    "# Display Interactive Shopping List\n",
    "Put this into a function so you can update it"
   ]
  },
  {
   "cell_type": "code",
   "execution_count": null,
   "id": "96c84e9f",
   "metadata": {},
   "outputs": [],
   "source": [
    "outBucketData['ShoppingListOptions'] = Output()\n",
    "\n",
    "\n",
    "# update shopping list as user updates input\n",
    "def AllChange_eventHadler(change):\n",
    "    makeShoppingList(outBucketData['ShoppingList'])\n",
    "    \n",
    "def makeShoppingListOptions():\n",
    "    theseContainers = []\n",
    "    theseContainers.append(createHeader())\n",
    "    \n",
    "    theseContainers.append(makeStoreSelector())\n",
    "#     theseContainers.append(makeStoreData(SelectStore_Default))\n",
    "    theseContainers.append(makeShoppingItemsDisplay())\n",
    "    theseContainers.append(makeHotItemsDisplay())\n",
    "    theseContainers.append(makeExtrasDisplay())\n",
    "    thisContainer = widgets.VBox(children=theseContainers)\n",
    "    return thisContainer\n",
    "\n",
    "def displayShoppingListOptions(thisOut):\n",
    "    thisContainer = makeShoppingListOptions()\n",
    "    thisOut.clear_output()\n",
    "    with thisOut:\n",
    "        display(thisContainer)\n",
    "    display(thisOut)\n",
    "    for thisWidgetLabel,thisWidget in AllWidgetData.items():\n",
    "        thisWidget.observe(AllChange_eventHadler, names='value')\n",
    "    for thisKey in ExtrasLabelWidget.keys():\n",
    "        ExtrasLabelWidget[thisKey].observe(AllChange_eventHadler, names='value')\n",
    "        ExtrasPriceWidget[thisKey].observe(AllChange_eventHadler, names='value')\n",
    "    \n",
    "    \n"
   ]
  },
  {
   "cell_type": "markdown",
   "id": "abc93f7b",
   "metadata": {},
   "source": [
    "# Make Shopping-List Output"
   ]
  },
  {
   "cell_type": "code",
   "execution_count": null,
   "id": "e00380c0",
   "metadata": {},
   "outputs": [],
   "source": [
    "outBucketData['ShoppingList'] = Output()\n",
    "outLines = []\n",
    "def makeShoppingList(thisOut):\n",
    "    thisOut.clear_output()\n",
    "    global outLines\n",
    "    outLines = ['Shopping List']\n",
    "    thisSectionHeader = makeSectionHeaderWidget('Shopping List')\n",
    "    thisStore = AllWidgetData['SelectStore'].value\n",
    "    outLines.append('----------------------')\n",
    "    outLines.append('Store: ' + thisStore)\n",
    "    outLines.append('Travel Time: ' + str(StoreData[thisStore]['Travel Time']))\n",
    "    outLines.append('----------------------')\n",
    "    with thisOut:\n",
    "        display(thisSectionHeader)\n",
    "        DisplayStoreData(thisStore,outBucketData['StoreData'])\n",
    "    TotalCost = 0\n",
    "    for ItemType,ItemData in ShoppingItems.items():\n",
    "        for thisItem,thisItemData in ItemData.items():\n",
    "            thisWidgetValue = AllWidgetData[thisItem+'CheckBox'].value\n",
    "            if thisWidgetValue:\n",
    "                thisPrice = ShoppingItems[ItemType][thisItem]['price']\n",
    "                thisAmount = AllWidgetData[thisItem+'Amount'].value\n",
    "                TotalItemPrice = float(thisPrice)*float(thisAmount)\n",
    "                TotalCost = TotalCost + TotalItemPrice\n",
    "                with thisOut:\n",
    "                    thisString = str(thisAmount) + ' units of ' + thisItem + ' @' + str(thisPrice) + '/unit =' + str(TotalItemPrice) \n",
    "                    outLines.append(thisString)\n",
    "                    print(thisString)\n",
    "                \n",
    "    for ItemType,ItemData in HotItems.items():\n",
    "        thisItemValue = AllWidgetData[ItemType].value\n",
    "        if thisItemValue != 'None':\n",
    "            thisItemPrice = HotItems[ItemType][thisItemValue]\n",
    "            TotalCost = TotalCost + thisItemPrice\n",
    "            with thisOut:\n",
    "                thisString = ItemType + ': ' + thisItemValue + ' @' + str(thisItemPrice)\n",
    "                outLines.append(thisString)\n",
    "                print(thisString)\n",
    "    \n",
    "    for thisKey in ExtrasLabelWidget.keys():\n",
    "        thisExtraLabel = ExtrasLabelWidget[thisKey].value\n",
    "        thisExtraPrice = ExtrasPriceWidget[thisKey].value\n",
    "        if len(thisExtraLabel)>0:\n",
    "            if len(thisExtraPrice)>0:\n",
    "                TotalCost = TotalCost + float(thisExtraPrice)\n",
    "                with thisOut:\n",
    "                    thisString = thisExtraLabel + ' @' + str(thisExtraPrice)\n",
    "                    outLines.append(thisString)\n",
    "                    print(thisString)\n",
    "            else:\n",
    "                with thisOut:\n",
    "                    thisString = thisExtraLabel\n",
    "                    outLines.append(thisString)\n",
    "                    print(thisString)\n",
    "        \n",
    "    with thisOut:\n",
    "        outLines.append('----------------------')\n",
    "        print('----------------------')\n",
    "        thisString = 'Shopping-List TOTAL: ' + str(TotalCost)\n",
    "        outLines.append(thisString)\n",
    "        print(thisString)\n",
    "        \n",
    "        \n",
    "def DisplayShoppingList(thisOut):\n",
    "    makeShoppingList(thisOut)\n",
    "    display(thisOut)\n",
    "    \n"
   ]
  },
  {
   "cell_type": "markdown",
   "id": "77c76135",
   "metadata": {},
   "source": [
    "## Make a Print Button"
   ]
  },
  {
   "cell_type": "code",
   "execution_count": null,
   "id": "d905089c",
   "metadata": {},
   "outputs": [],
   "source": [
    "def makeButton(text):\n",
    "    thisWidget = widgets.Button(\n",
    "        description = text,\n",
    "        style= {'button_color':'#FCCCEF'}\n",
    "    )\n",
    "    return thisWidget\n",
    "    "
   ]
  },
  {
   "cell_type": "code",
   "execution_count": null,
   "id": "d8b9e0e6",
   "metadata": {},
   "outputs": [],
   "source": [
    "outFilename = 'ShoppingList.txt'\n",
    "\n",
    "def makePrintButton():\n",
    "    PrintButton = makeButton('Print Shopping List')\n",
    "    PrintButton.on_click(PrintButton_clicked)      \n",
    "    display(PrintButton)\n",
    "\n",
    "def PrintButton_clicked(b):\n",
    "    with open(outFilename, \"w\") as outfile:\n",
    "        outfile.write(\"\\n\".join(outLines))\n",
    "    print('File has been printed')\n",
    "        "
   ]
  },
  {
   "cell_type": "code",
   "execution_count": null,
   "id": "fe049dfd",
   "metadata": {
    "scrolled": false
   },
   "outputs": [],
   "source": [
    "displayShoppingListOptions(outBucketData['ShoppingListOptions'])"
   ]
  },
  {
   "cell_type": "code",
   "execution_count": null,
   "id": "811b29ab",
   "metadata": {},
   "outputs": [],
   "source": [
    "DisplayShoppingList(outBucketData['ShoppingList'])"
   ]
  },
  {
   "cell_type": "code",
   "execution_count": null,
   "id": "e8c18b56",
   "metadata": {},
   "outputs": [],
   "source": [
    "makePrintButton()"
   ]
  },
  {
   "cell_type": "code",
   "execution_count": null,
   "id": "afc3cc4c",
   "metadata": {},
   "outputs": [],
   "source": []
  },
  {
   "cell_type": "code",
   "execution_count": null,
   "id": "5509dfca",
   "metadata": {},
   "outputs": [],
   "source": []
  }
 ],
 "metadata": {
  "kernelspec": {
   "display_name": "Python 3",
   "language": "python",
   "name": "python3"
  },
  "language_info": {
   "codemirror_mode": {
    "name": "ipython",
    "version": 3
   },
   "file_extension": ".py",
   "mimetype": "text/x-python",
   "name": "python",
   "nbconvert_exporter": "python",
   "pygments_lexer": "ipython3",
   "version": "3.8.8"
  }
 },
 "nbformat": 4,
 "nbformat_minor": 5
}
