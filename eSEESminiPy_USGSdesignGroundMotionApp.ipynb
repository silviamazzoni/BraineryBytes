{
 "cells": [
  {
   "cell_type": "markdown",
   "metadata": {},
   "source": [
    "#######################################################################\n",
    "## eSEESminiPy\n",
    "\n",
    "\n",
    "#                          USGS Design Map App\n",
    "\n",
    "###   developed by Silvia Mazzoni, 2021\n",
    "###      silviamazzoni@yahoo.com\n",
    "\n",
    "\n",
    "#######################################################################\n"
   ]
  },
  {
   "cell_type": "markdown",
   "metadata": {},
   "source": [
    "### INSTRUCTIONS\n",
    "\n",
    "This tool accesses the USGS WebServices tool (https://earthquake.usgs.gov/ws/designmaps/) and processes the data into usable and consistent format for all design codes.\n",
    "NOTE: Some plots may appear jagged because of the low number of sig-figs provided by USGS.\n",
    "\n",
    "\n",
    "This is a Jupyter Notebook<br>\n",
    "Each cell can be executed individually using the Cell>Run Cells in the menu above.<br>\n",
    "<br>\n",
    "To run the Notebook, work through each cell in the order provided in this notebook and modify the input for your case<br>\n",
    "To run this notebook select: Cell>Run All   from the menu \"<br>\n",
    "\n",
    "When you are done, you can print the notebook.\n",
    "You can also download the notebook to your local computer.\n",
    "\n",
    "You may download this notebook. but I recommend you keep using the on-line version as I will be making updates and modifications. To save the data, print this notebook to a PDF.\n",
    "\n",
    "Because we are working in Binder, and Binder sessions are meant to be ephemeral, it is not possible for you to save any changes you make to your Jupyter Notebook. If you do make changes or notes, you will need to download the notebook to your own computer by clicking File > Download as > Notebook (.ipynb). The only way you will be able to run these is if you have the appropriate software to run Jupyter Notebooks in Python and pip install OpenSeesPy and eSEESminiPy in your Python configuration. You may view my videos on how to install Anaconda, Jupyter Notebooks and OpenSeesPy (https://www.youtube.com/c/silviasbrainery)."
   ]
  },
  {
   "cell_type": "code",
   "execution_count": 171,
   "metadata": {},
   "outputs": [],
   "source": [
    "#######################################################################\n",
    "############## user input \n",
    "#######################################################################\n",
    "\n",
    "label = 'USGS Test Site'\n",
    "Latitude = 34\n",
    "Longitude = -118\n",
    "SiteClass = 'C' # options: ['A', 'B', 'C', 'D', 'E'] or NEHRP-2020: ['A', 'B', 'BC', 'C', 'CD', 'D', 'DE', 'E']\n",
    "RiskCat = 'IV' # options: ['I', 'II', 'III', 'IV']\n",
    "# Select governing code:\n",
    "ASCEcode = ['ASCE41-17'] # options: ASCE7-16,ASCE7-10,ASCE7-05,ASCE41-17,ASCE41-13,NEHRP-2020,NEHRP-2015,IBC-2015,IBC-2012,AASHTO-2009\n",
    "# or you can define them all:\n",
    "#ASCEcode = ['ASCE7-16','ASCE7-10','ASCE7-05','ASCE41-17','ASCE41-13','NEHRP-2020','NEHRP-2015','IBC-2015','IBC-2012','AASHTO-2009']\n",
    "\n",
    "# output:\n",
    "printSpectraValues = False     # options: True, False\n",
    "Period_scale='linear'   # options: 'log','linear'\n",
    "PSA_scale='linear'   # options: 'log','linear'\n",
    "#######################################################################\n",
    "#######################################################################"
   ]
  },
  {
   "cell_type": "code",
   "execution_count": 172,
   "metadata": {},
   "outputs": [
    {
     "data": {
      "application/javascript": [
       "IPython.OutputArea.auto_scroll_threshold = 10000;\n"
      ],
      "text/plain": [
       "<IPython.core.display.Javascript object>"
      ]
     },
     "metadata": {},
     "output_type": "display_data"
    }
   ],
   "source": [
    "%%javascript\n",
    "IPython.OutputArea.auto_scroll_threshold = 10000;"
   ]
  },
  {
   "cell_type": "code",
   "execution_count": 173,
   "metadata": {},
   "outputs": [],
   "source": [
    "import matplotlib.pyplot as plt\n",
    "import eSEESminiPy"
   ]
  },
  {
   "cell_type": "code",
   "execution_count": 174,
   "metadata": {},
   "outputs": [
    {
     "data": {
      "application/vnd.jupyter.widget-view+json": {
       "model_id": "648f560e5255402dac0ff9d85cb9e9bf",
       "version_major": 2,
       "version_minor": 0
      },
      "text/plain": [
       "HTML(value='<font color=\"#D47088\"><h3>ASCE41-17</h3></font>')"
      ]
     },
     "metadata": {},
     "output_type": "display_data"
    },
    {
     "name": "stdout",
     "output_type": "stream",
     "text": [
      "\n",
      "WEBSERVICES REQUEST DATA\n",
      "date: 2021-05-25T13:37:17.547Z\n",
      "referenceDocument: ASCE41-17\n",
      "status: success\n",
      "url: https://earthquake.usgs.gov/ws/designmaps/asce41-17.json?latitude=34&longitude=-118&riskCategory=IV&siteClass=C&title=USGS Test Site\n",
      "parameters: {'latitude': 34, 'longitude': -118, 'riskCategory': 'IV', 'siteClass': 'C', 'title': 'USGS Test Site'}\n",
      "\n",
      "GROUND MOTION DATA\n",
      "hazardLevel: TL Data\n",
      "ssuh: 2.106\n",
      "crs: 0.896\n",
      "ssrt: 1.888\n",
      "ssd: 2.432\n",
      "ss: 0.645\n",
      "fa: 1.242\n",
      "sxs: 0.801\n",
      "s1uh: 0.743\n",
      "cr1: 0.9\n",
      "s1rt: 0.669\n",
      "s1d: 0.963\n",
      "s1: 0.219\n",
      "fv: 1.5\n",
      "sx1: 0.329\n",
      "tl: 8\n",
      "t-sub-l: 8\n"
     ]
    },
    {
     "data": {
      "image/png": "[encoded data removed]",
      "text/plain": [
       "<Figure size 864x576 with 1 Axes>"
      ]
     },
     "metadata": {
      "needs_background": "light"
     },
     "output_type": "display_data"
    }
   ],
   "source": [
    "for ASCEcode in ASCEcode:\n",
    "    thisWidget = widgets.HTML(value = \"\"\"<font color=\"#D47088\"><h3>\"\"\" + ASCEcode + \"\"\"</h3></font>\"\"\")\n",
    "    display(thisWidget)\n",
    "    thisOut = eSEESminiPy.getUSGSdesignGroundMotion(label,ASCEcode,Latitude,Longitude,SiteClass,RiskCat)\n",
    "    UserInput = thisOut['UserInput']\n",
    "    RequestData = thisOut['Request']\n",
    "    Data = thisOut['Data']\n",
    "    spectraData = thisOut['Spectra']\n",
    "    #print('')\n",
    "    #print('USER INPUT')\n",
    "    #for thisLabel in UserInput.keys():\n",
    "    #    print(thisLabel + ': ' + str(UserInput[thisLabel]))\n",
    "    print('')\n",
    "    print('WEBSERVICES REQUEST DATA')\n",
    "    for thisLabel in RequestData.keys():\n",
    "        print(thisLabel + ': ' + str(RequestData[thisLabel]))\n",
    "    print('')\n",
    "    print('GROUND MOTION DATA')\n",
    "    for thisLabel in Data.keys():\n",
    "        print(thisLabel + ': ' + str(Data[thisLabel]))\n",
    "    plt.figure(figsize=(12,8))\n",
    "    for SpectrumLabel in spectraData.keys():\n",
    "        if len(spectraData[SpectrumLabel])>0:\n",
    "            plt.plot(spectraData[SpectrumLabel]['Period (sec)'], spectraData[SpectrumLabel]['PSA (g)'],lineWidth = 2, label=ASCEcode + '-' + SpectrumLabel)\n",
    "            if printSpectraValues:\n",
    "                print(SpectrumLabel)\n",
    "                print(spectraData[SpectrumLabel])\n",
    "\n",
    "    plt.xlabel('Period (sec)')\n",
    "    plt.ylabel('PSA (g)')\n",
    "    plt.xscale(Period_scale)\n",
    "    plt.yscale(PSA_scale)\n",
    "    plt.title(ASCEcode)\n",
    "    plt.legend()\n",
    "    plt.grid()\n",
    "    plt.show()\n",
    "\n"
   ]
  },
  {
   "cell_type": "code",
   "execution_count": 175,
   "metadata": {},
   "outputs": [],
   "source": [
    "### Questions?\n",
    "#### Contact Silvia Mazzoni: silviamazzoni@yahoo.com\n",
    "\n",
    "\n",
    "## copyright: \n",
    "##   You may use this code to run your analyses. \n",
    "##   You may print and distribute the results\n",
    "##    This tool comes as-is with no warranty and I recommend you check the results\n",
    "## \n",
    "##   NO PART OF THIS CODE MAY BE REPRODUCED OR REDISTRIBUTED WITHOUT PRIOR WRITTEN CONSENT FROM THE AUTHOR"
   ]
  }
 ],
 "metadata": {
  "kernelspec": {
   "display_name": "Python 3",
   "language": "python",
   "name": "python3"
  },
  "language_info": {
   "codemirror_mode": {
    "name": "ipython",
    "version": 3
   },
   "file_extension": ".py",
   "mimetype": "text/x-python",
   "name": "python",
   "nbconvert_exporter": "python",
   "pygments_lexer": "ipython3",
   "version": "3.8.3"
  }
 },
 "nbformat": 4,
 "nbformat_minor": 4
}
