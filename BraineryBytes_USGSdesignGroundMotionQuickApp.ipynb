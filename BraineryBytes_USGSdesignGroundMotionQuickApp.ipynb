{
 "cells": [
  {
   "cell_type": "code",
   "execution_count": 14,
   "metadata": {},
   "outputs": [
    {
     "data": {
      "text/html": [
       "<script>\n",
       "      ////////////////////////////////////////////////////////////////////////////////////////////////////////////\n",
       "     //////   PLEASE SELECT \"Cell\" > \"Run All\" IN THE MENU BAR ABOVE AND WAIT A FEW SECONDS PROGRAM STARTS   ////\n",
       "    ////////////////////////////////////////////////////////////////////////////////////////////////////////////\n",
       "\n",
       "    // AUTORUN ALL CELLS ON NOTEBOOK-LOAD!\n",
       "    require(\n",
       "        ['base/js/namespace', 'jquery'], \n",
       "        function(jupyter, $) {\n",
       "            $(jupyter.events).on(\"kernel_ready.Kernel\", function () {\n",
       "                console.log(\"Auto-running all cells-below...\");\n",
       "                jupyter.actions.call('jupyter-notebook:run-all-cells-below');\n",
       "                jupyter.actions.call('jupyter-notebook:save-notebook');\n",
       "            });\n",
       "        }\n",
       "    );\n",
       "</script>\n",
       "<style>\n",
       ".button {\n",
       "    background-color: #4CAF50; /* Green */\n",
       "    border: none;\n",
       "    color: white;\n",
       "    padding: 5px 55px;\n",
       "    text-align: center;\n",
       "    text-decoration: none;\n",
       "    display: inline-block;\n",
       "    font-size: 40px;\n",
       "    margin: 4px 2px;\n",
       "    cursor: pointer;\n",
       "}\n",
       ".button2 {background-color: #008CBA;} /* Blue */\n",
       ".button3 {background-color: #f44336;} /* Red */ \n",
       ".button4 {background-color: #e7e7e7; color: black;} /* Gray */ \n",
       ".button5 {background-color: #555555;} /* Black */\n",
       "          \n",
       ".mytext > .widget-label {\n",
       "    font-style: italic;\n",
       "    color: blue;\n",
       "    font-size: 30px;\n",
       "}\n",
       ".mytext > input[type=\"text\"] {\n",
       "    font-size: 20px;\n",
       "    color: red;\n",
       "}\n",
       "          \n",
       ".widget-select > select {background-color: red;}   \n",
       "</style>     \n"
      ],
      "text/plain": [
       "<IPython.core.display.HTML object>"
      ]
     },
     "metadata": {},
     "output_type": "display_data"
    }
   ],
   "source": [
    "%%html\n",
    "<script>\n",
    "      ////////////////////////////////////////////////////////////////////////////////////////////////////////////\n",
    "     //////   PLEASE SELECT \"Cell\" > \"Run All\" IN THE MENU BAR ABOVE AND WAIT A FEW SECONDS PROGRAM STARTS   ////\n",
    "    ////////////////////////////////////////////////////////////////////////////////////////////////////////////\n",
    "\n",
    "    // AUTORUN ALL CELLS ON NOTEBOOK-LOAD!\n",
    "    require(\n",
    "        ['base/js/namespace', 'jquery'], \n",
    "        function(jupyter, $) {\n",
    "            $(jupyter.events).on(\"kernel_ready.Kernel\", function () {\n",
    "                console.log(\"Auto-running all cells-below...\");\n",
    "                jupyter.actions.call('jupyter-notebook:run-all-cells-below');\n",
    "                jupyter.actions.call('jupyter-notebook:save-notebook');\n",
    "            });\n",
    "        }\n",
    "    );\n",
    "</script>\n",
    "<style>\n",
    ".button {\n",
    "    background-color: #4CAF50; /* Green */\n",
    "    border: none;\n",
    "    color: white;\n",
    "    padding: 5px 55px;\n",
    "    text-align: center;\n",
    "    text-decoration: none;\n",
    "    display: inline-block;\n",
    "    font-size: 40px;\n",
    "    margin: 4px 2px;\n",
    "    cursor: pointer;\n",
    "}\n",
    ".button2 {background-color: #008CBA;} /* Blue */\n",
    ".button3 {background-color: #f44336;} /* Red */ \n",
    ".button4 {background-color: #e7e7e7; color: black;} /* Gray */ \n",
    ".button5 {background-color: #555555;} /* Black */\n",
    "          \n",
    ".mytext > .widget-label {\n",
    "    font-style: italic;\n",
    "    color: blue;\n",
    "    font-size: 30px;\n",
    "}\n",
    ".mytext > input[type=\"text\"] {\n",
    "    font-size: 20px;\n",
    "    color: red;\n",
    "}\n",
    "          \n",
    ".widget-select > select {background-color: red;}   \n",
    "</style>     "
   ]
  },
  {
   "cell_type": "markdown",
   "metadata": {},
   "source": [
    "<font size=\"4\" face=\"verdana\" color=\"red\"> Silvia's Brainery Bytes\n",
    "<hr></font>\n",
    "<font size=\"6\" face=\"verdana\" color=\"blue\">\n",
    "    <b>USGS Design Ground Motions Quick App </b><br>\n",
    "</font><p>\n",
    "\n",
    "<font size=\"4\" face=\"verdana\" color=\"black\">\n",
    " R210627 <br>\n",
    " Silvia Mazzoni, 2021 <br>\n",
    "      silviamazzoni@yahoo.com <br>\n",
    "\n",
    "</font>\n",
    "    <font size=\"2\" face=\"verdana\" color=\"black\">    \n",
    "<br>\n",
    "    <b>INSTRUCTIONS:</b><br>\n",
    "This tool accesses the USGS WebServices tool (https://earthquake.usgs.gov/ws/designmaps/) and processes the data into usable and consistent format for all design codes.<br>\n",
    "NOTE: Some plots may appear jagged because of the too-few sig-figs provided by USGS.<br>\n",
    "When you have the results you want you can copy the data into your clipboard and/or you can print the notebook.\n",
    "\n",
    "<br>\n",
    "This is a Jupyter Notebook<br>\n",
    "If this notebook does not run automatically, or to restart it select: Cell>Run All   from the menu \"<br>\n",
    "\n",
    "Because we are working in Binder, and Binder sessions are meant to be ephemeral, it is NOT possible for you to save any changes you make to your Jupyter Notebook. If you do make changes or notes, you will need to download the notebook to your own computer by clicking File > Download as > Notebook (.ipynb). The only way you will be able to run these is if you have the appropriate software to run Jupyter Notebooks in Python and pip install eSEESminiPy and any library used in this notebook in your Python configuration. You may view my videos on how to install Anaconda, Jupyter Notebooks and OpenSeesPy (https://www.youtube.com/c/silviasbrainery).<br>\n",
    "</font>"
   ]
  },
  {
   "cell_type": "code",
   "execution_count": 15,
   "metadata": {},
   "outputs": [
    {
     "data": {
      "application/javascript": [
       "IPython.OutputArea.auto_scroll_threshold = 100000;\n"
      ],
      "text/plain": [
       "<IPython.core.display.Javascript object>"
      ]
     },
     "metadata": {},
     "output_type": "display_data"
    }
   ],
   "source": [
    "%%javascript\n",
    "IPython.OutputArea.auto_scroll_threshold = 100000;"
   ]
  },
  {
   "cell_type": "code",
   "execution_count": 16,
   "metadata": {},
   "outputs": [],
   "source": [
    "import BraineryBytes\n",
    "from IPython.display import HTML"
   ]
  },
  {
   "cell_type": "code",
   "execution_count": 17,
   "metadata": {},
   "outputs": [
    {
     "data": {
      "application/vnd.jupyter.widget-view+json": {
       "model_id": "a612c0e50c9e42b5bf8c4f2f7ecbff71",
       "version_major": 2,
       "version_minor": 0
      },
      "text/plain": [
       "VBox(children=(HBox(children=(VBox(children=(Label(value='Project Label (def: TestSite)'), Text(value='TestSit…"
      ]
     },
     "metadata": {},
     "output_type": "display_data"
    }
   ],
   "source": [
    "WidgetBasket = BraineryBytes.makeUSGSDesignMapApp()"
   ]
  },
  {
   "cell_type": "code",
   "execution_count": 18,
   "metadata": {},
   "outputs": [
    {
     "data": {
      "application/vnd.jupyter.widget-view+json": {
       "model_id": "1f25f01664e64bb58af8f4c9fa0528d9",
       "version_major": 2,
       "version_minor": 0
      },
      "text/plain": [
       "Output()"
      ]
     },
     "metadata": {},
     "output_type": "display_data"
    }
   ],
   "source": [
    "display(WidgetBasket['OutputSpace'])"
   ]
  },
  {
   "cell_type": "code",
   "execution_count": 19,
   "metadata": {},
   "outputs": [
    {
     "data": {
      "text/html": [
       "<script>\n",
       "code_show=true; \n",
       "function code_toggle() {\n",
       " if (code_show){\n",
       " $('div.input').hide();\n",
       "    $('div.prompt').hide();\n",
       "    $('div.back-to-top').hide();\n",
       "    $('nav#menubar').hide();\n",
       "    $('.breadcrumb').hide();\n",
       "    $('.hidden-print').hide();\n",
       " } else {\n",
       " $('div.input').show();\n",
       " }\n",
       " code_show = !code_show\n",
       "} \n",
       "$( document ).ready(code_toggle);\n",
       "</script>\n",
       "<footer id=\"attribution\" style=\"float:right; color:#999; background:#fff;\">\n",
       "<a style=\"text-decoration:none;cursor: none;color:#999;\" href=\"javascript:code_toggle()\">Developed</a> by SilviaMazzoni, 2021\n",
       "\n",
       "\n",
       "</footer>"
      ],
      "text/plain": [
       "<IPython.core.display.HTML object>"
      ]
     },
     "execution_count": 19,
     "metadata": {},
     "output_type": "execute_result"
    }
   ],
   "source": [
    "HTML('''<script>\n",
    "code_show=true; \n",
    "function code_toggle() {\n",
    " if (code_show){\n",
    " $('div.input').hide();\n",
    "    $('div.prompt').hide();\n",
    "    $('div.back-to-top').hide();\n",
    "    $('nav#menubar').hide();\n",
    "    $('.breadcrumb').hide();\n",
    "    $('.hidden-print').hide();\n",
    " } else {\n",
    " $('div.input').show();\n",
    " }\n",
    " code_show = !code_show\n",
    "} \n",
    "$( document ).ready(code_toggle);\n",
    "</script>\n",
    "<footer id=\"attribution\" style=\"float:right; color:#999; background:#fff;\">\n",
    "<a style=\"text-decoration:none;cursor: none;color:#999;\" href=\"javascript:code_toggle()\">Developed</a> by SilviaMazzoni, 2021\n",
    "\n",
    "\n",
    "</footer>''')\n"
   ]
  }
 ],
 "metadata": {
  "kernelspec": {
   "display_name": "Python 3",
   "language": "python",
   "name": "python3"
  },
  "language_info": {
   "codemirror_mode": {
    "name": "ipython",
    "version": 3
   },
   "file_extension": ".py",
   "mimetype": "text/x-python",
   "name": "python",
   "nbconvert_exporter": "python",
   "pygments_lexer": "ipython3",
   "version": "3.8.3"
  }
 },
 "nbformat": 4,
 "nbformat_minor": 4
}
