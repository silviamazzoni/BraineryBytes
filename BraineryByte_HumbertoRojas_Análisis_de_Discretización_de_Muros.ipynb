{
 "cells": [
  {
   "cell_type": "markdown",
   "metadata": {},
   "source": [
    "# Análisis de Discretización de Muros\n",
    "### Autor: Humberto Aldair Rojas Huaroto\n",
    "### Linkedin: [Humberto Rojas Huaroto](https://www.linkedin.com/in/humberto-rojas-huaroto-63908321a/)\n",
    "Noviembre 2021\n",
    "\n",
    "Este cuaderno describe el análisis de convengencia de la discretización de muros en una malla de elementos finitos, tambien se desarrolla un ejemplo de analisis estatico lineal por la norma peruana E030 de un muro acoplado discretizado en elemetos shell.\n",
    "\n",
    "\n",
    "\n"
   ]
  },
  {
   "cell_type": "markdown",
   "metadata": {},
   "source": [
    "**1. Instalación de las librerías necesiaras**"
   ]
  },
  {
   "cell_type": "code",
   "execution_count": 1,
   "metadata": {
    "colab": {
     "base_uri": "https://localhost:8080/"
    },
    "executionInfo": {
     "elapsed": 177,
     "status": "ok",
     "timestamp": 1632511513086,
     "user": {
      "displayName": "HUMBERTO ALDAIR ROJAS HUAROTO",
      "photoUrl": "https://lh3.googleusercontent.com/a/default-user=s64",
      "userId": "17876067933562411743"
     },
     "user_tz": 300
    },
    "id": "A3ozQa_uJj8o",
    "outputId": "d93e042c-0ae8-41c7-976f-2977d06889bc"
   },
   "outputs": [
    {
     "name": "stdout",
     "output_type": "stream",
     "text": [
      "3.1.3\n"
     ]
    }
   ],
   "source": [
    "import matplotlib\n",
    "print(matplotlib.__version__)"
   ]
  },
  {
   "cell_type": "markdown",
   "metadata": {},
   "source": [
    "**2. Importamos las librerías y módulos que se utilizaran**"
   ]
  },
  {
   "cell_type": "code",
   "execution_count": 2,
   "metadata": {
    "id": "StLBlEbZJm29"
   },
   "outputs": [
    {
     "ename": "ModuleNotFoundError",
     "evalue": "No module named 'matplotlib.artist'",
     "output_type": "error",
     "traceback": [
      "\u001b[1;31m---------------------------------------------------------------------------\u001b[0m",
      "\u001b[1;31mModuleNotFoundError\u001b[0m                       Traceback (most recent call last)",
      "\u001b[1;32m~\\AppData\\Local\\Temp/ipykernel_10636/2827281386.py\u001b[0m in \u001b[0;36m<module>\u001b[1;34m\u001b[0m\n\u001b[0;32m      1\u001b[0m \u001b[1;32mimport\u001b[0m \u001b[0mnumpy\u001b[0m \u001b[1;32mas\u001b[0m \u001b[0mnp\u001b[0m\u001b[1;33m\u001b[0m\u001b[1;33m\u001b[0m\u001b[0m\n\u001b[0;32m      2\u001b[0m \u001b[1;32mfrom\u001b[0m \u001b[0mopenseespy\u001b[0m\u001b[1;33m.\u001b[0m\u001b[0mopensees\u001b[0m \u001b[1;32mimport\u001b[0m \u001b[1;33m*\u001b[0m\u001b[1;33m\u001b[0m\u001b[1;33m\u001b[0m\u001b[0m\n\u001b[1;32m----> 3\u001b[1;33m \u001b[1;32mimport\u001b[0m \u001b[0mopenseespy\u001b[0m\u001b[1;33m.\u001b[0m\u001b[0mpostprocessing\u001b[0m\u001b[1;33m.\u001b[0m\u001b[0mops_vis\u001b[0m \u001b[1;32mas\u001b[0m \u001b[0mopsv\u001b[0m\u001b[1;33m\u001b[0m\u001b[1;33m\u001b[0m\u001b[0m\n\u001b[0m\u001b[0;32m      4\u001b[0m \u001b[1;32mimport\u001b[0m \u001b[0mmatplotlib\u001b[0m\u001b[1;33m.\u001b[0m\u001b[0mpyplot\u001b[0m \u001b[1;32mas\u001b[0m \u001b[0mplt\u001b[0m\u001b[1;33m\u001b[0m\u001b[1;33m\u001b[0m\u001b[0m\n",
      "\u001b[1;32mC:\\ProgramData\\Anaconda3\\lib\\site-packages\\openseespy\\postprocessing\\ops_vis.py\u001b[0m in \u001b[0;36m<module>\u001b[1;34m\u001b[0m\n\u001b[0;32m     20\u001b[0m \u001b[1;31m# import opensees as ops  # local compilation\u001b[0m\u001b[1;33m\u001b[0m\u001b[1;33m\u001b[0m\u001b[1;33m\u001b[0m\u001b[0m\n\u001b[0;32m     21\u001b[0m \u001b[1;32mimport\u001b[0m \u001b[0mnumpy\u001b[0m \u001b[1;32mas\u001b[0m \u001b[0mnp\u001b[0m\u001b[1;33m\u001b[0m\u001b[1;33m\u001b[0m\u001b[0m\n\u001b[1;32m---> 22\u001b[1;33m \u001b[1;32mimport\u001b[0m \u001b[0mmatplotlib\u001b[0m\u001b[1;33m.\u001b[0m\u001b[0mpyplot\u001b[0m \u001b[1;32mas\u001b[0m \u001b[0mplt\u001b[0m\u001b[1;33m\u001b[0m\u001b[1;33m\u001b[0m\u001b[0m\n\u001b[0m\u001b[0;32m     23\u001b[0m \u001b[1;32mfrom\u001b[0m \u001b[0mmpl_toolkits\u001b[0m\u001b[1;33m.\u001b[0m\u001b[0mmplot3d\u001b[0m \u001b[1;32mimport\u001b[0m \u001b[0mAxes3D\u001b[0m\u001b[1;33m\u001b[0m\u001b[1;33m\u001b[0m\u001b[0m\n\u001b[0;32m     24\u001b[0m \u001b[1;32mfrom\u001b[0m \u001b[0mmpl_toolkits\u001b[0m\u001b[1;33m.\u001b[0m\u001b[0mmplot3d\u001b[0m\u001b[1;33m.\u001b[0m\u001b[0mart3d\u001b[0m \u001b[1;32mimport\u001b[0m \u001b[0mPoly3DCollection\u001b[0m\u001b[1;33m\u001b[0m\u001b[1;33m\u001b[0m\u001b[0m\n",
      "\u001b[1;32m~\\AppData\\Roaming\\Python\\Python38\\site-packages\\matplotlib\\pyplot.py\u001b[0m in \u001b[0;36m<module>\u001b[1;34m\u001b[0m\n\u001b[0;32m     30\u001b[0m \u001b[1;32mfrom\u001b[0m \u001b[0mcycler\u001b[0m \u001b[1;32mimport\u001b[0m \u001b[0mcycler\u001b[0m\u001b[1;33m\u001b[0m\u001b[1;33m\u001b[0m\u001b[0m\n\u001b[0;32m     31\u001b[0m \u001b[1;32mimport\u001b[0m \u001b[0mmatplotlib\u001b[0m\u001b[1;33m\u001b[0m\u001b[1;33m\u001b[0m\u001b[0m\n\u001b[1;32m---> 32\u001b[1;33m \u001b[1;32mimport\u001b[0m \u001b[0mmatplotlib\u001b[0m\u001b[1;33m.\u001b[0m\u001b[0mcolorbar\u001b[0m\u001b[1;33m\u001b[0m\u001b[1;33m\u001b[0m\u001b[0m\n\u001b[0m\u001b[0;32m     33\u001b[0m \u001b[1;32mimport\u001b[0m \u001b[0mmatplotlib\u001b[0m\u001b[1;33m.\u001b[0m\u001b[0mimage\u001b[0m\u001b[1;33m\u001b[0m\u001b[1;33m\u001b[0m\u001b[0m\n\u001b[0;32m     34\u001b[0m \u001b[1;32mfrom\u001b[0m \u001b[0mmatplotlib\u001b[0m \u001b[1;32mimport\u001b[0m \u001b[0mrcsetup\u001b[0m\u001b[1;33m,\u001b[0m \u001b[0mstyle\u001b[0m\u001b[1;33m\u001b[0m\u001b[1;33m\u001b[0m\u001b[0m\n",
      "\u001b[1;32m~\\AppData\\Roaming\\Python\\Python38\\site-packages\\matplotlib\\colorbar.py\u001b[0m in \u001b[0;36m<module>\u001b[1;34m\u001b[0m\n\u001b[0;32m     25\u001b[0m \u001b[1;33m\u001b[0m\u001b[0m\n\u001b[0;32m     26\u001b[0m \u001b[1;32mimport\u001b[0m \u001b[0mmatplotlib\u001b[0m \u001b[1;32mas\u001b[0m \u001b[0mmpl\u001b[0m\u001b[1;33m\u001b[0m\u001b[1;33m\u001b[0m\u001b[0m\n\u001b[1;32m---> 27\u001b[1;33m \u001b[1;32mimport\u001b[0m \u001b[0mmatplotlib\u001b[0m\u001b[1;33m.\u001b[0m\u001b[0martist\u001b[0m \u001b[1;32mas\u001b[0m \u001b[0mmartist\u001b[0m\u001b[1;33m\u001b[0m\u001b[1;33m\u001b[0m\u001b[0m\n\u001b[0m\u001b[0;32m     28\u001b[0m \u001b[1;32mimport\u001b[0m \u001b[0mmatplotlib\u001b[0m\u001b[1;33m.\u001b[0m\u001b[0mcbook\u001b[0m \u001b[1;32mas\u001b[0m \u001b[0mcbook\u001b[0m\u001b[1;33m\u001b[0m\u001b[1;33m\u001b[0m\u001b[0m\n\u001b[0;32m     29\u001b[0m \u001b[1;32mimport\u001b[0m \u001b[0mmatplotlib\u001b[0m\u001b[1;33m.\u001b[0m\u001b[0mcollections\u001b[0m \u001b[1;32mas\u001b[0m \u001b[0mcollections\u001b[0m\u001b[1;33m\u001b[0m\u001b[1;33m\u001b[0m\u001b[0m\n",
      "\u001b[1;31mModuleNotFoundError\u001b[0m: No module named 'matplotlib.artist'"
     ]
    }
   ],
   "source": [
    "import numpy as np\n",
    "from openseespy.opensees import *\n",
    "import openseespy.postprocessing.ops_vis as opsv\n",
    "import matplotlib.pyplot as plt"
   ]
  },
  {
   "cell_type": "markdown",
   "metadata": {},
   "source": [
    "**3. Definimos el sistema de unidades a utilizar**"
   ]
  },
  {
   "cell_type": "code",
   "execution_count": null,
   "metadata": {
    "id": "7Pi8prOwJnsa"
   },
   "outputs": [],
   "source": [
    "# Unidades Base\n",
    "m = 1\n",
    "kg = 1\n",
    "s = 1\n",
    "# Otras Unidades\n",
    "mm = 0.001*m\n",
    "cm = 0.01*m\n",
    "N = kg*m/s**2\n",
    "kgf = 9.81*N\n",
    "tonf = 1000*kgf\n",
    "ton= 1000*kg\n",
    "Pa = N/m**2\n",
    "MPa = 10**6*Pa\n",
    "inch = 2.54*cm\n",
    "ft = 12*inch\n",
    "ksi = 6894757.2932*Pa\n",
    "kip = ksi*inch**2\n",
    "psi = 6894.76*Pa\n",
    "# Constantes Físicas\n",
    "g = 9.81*m/s**2"
   ]
  },
  {
   "cell_type": "markdown",
   "metadata": {},
   "source": [
    "**4. Definimos las funciones de discretización**"
   ]
  },
  {
   "cell_type": "code",
   "execution_count": null,
   "metadata": {
    "id": "KLq5YjiLJqSY"
   },
   "outputs": [],
   "source": [
    "def malla(Tag,N1,N2,N3,N4,Material,ndf,mesh_size):\n",
    "  mesh('line', (Tag-1)*5+1, 2, N1, N2, 1, ndf, mesh_size)\n",
    "  mesh('line', (Tag-1)*5+2, 2, N2, N3, 1, ndf, mesh_size)\n",
    "  mesh('line', (Tag-1)*5+3, 2, N3, N4, 1, ndf, mesh_size)\n",
    "  mesh('line', (Tag-1)*5+4, 2, N4, N1, 1, ndf, mesh_size)\n",
    "  eleArgs = ['ShellMITC4',Material]\n",
    "  mesh(\"quad\", (Tag-1)*5+5, 4, (Tag-1)*5+1, (Tag-1)*5+2, (Tag-1)*5+3, (Tag-1)*5+4, 1, ndf, mesh_size, *eleArgs)"
   ]
  },
  {
   "cell_type": "code",
   "execution_count": null,
   "metadata": {
    "id": "EsqlGb_omtSr"
   },
   "outputs": [],
   "source": [
    "def malla2(Tag,N1,N2,N3,N4,Material,ndf,mesh_sizeX,mesh_sizeZ):\n",
    "  mesh('line', (Tag-1)*5+1, 2, N1, N2, 1, ndf, mesh_sizeX)\n",
    "  mesh('line', (Tag-1)*5+2, 2, N2, N3, 1, ndf, mesh_sizeZ)\n",
    "  mesh('line', (Tag-1)*5+3, 2, N3, N4, 1, ndf, mesh_sizeX)\n",
    "  mesh('line', (Tag-1)*5+4, 2, N4, N1, 1, ndf, mesh_sizeZ)\n",
    "  eleArgs = ['ShellMITC4',Material]\n",
    "  mesh(\"quad\", (Tag-1)*5+5, 4, (Tag-1)*5+1, (Tag-1)*5+2, (Tag-1)*5+3, (Tag-1)*5+4, 1, ndf, mesh_sizeZ/2, *eleArgs)"
   ]
  },
  {
   "cell_type": "markdown",
   "metadata": {
    "id": "19LLAL4dl61S"
   },
   "source": [
    "## IMPORTANCIA DE LA DISCRETIZACIÓN EN MUROS"
   ]
  },
  {
   "cell_type": "markdown",
   "metadata": {},
   "source": [
    "**5. Definimos el modelo**"
   ]
  },
  {
   "cell_type": "code",
   "execution_count": null,
   "metadata": {
    "id": "7SdIYBZumMoU"
   },
   "outputs": [],
   "source": [
    "wipe()\n",
    "model('basic', '-ndm', 3, '-ndf', 6)\n",
    "node(1,0,0,0)\n",
    "node(2,4,0,0)\n",
    "node(3,4,0,6)\n",
    "node(4,0,0,6)\n",
    "\n",
    "node(5,6,0,0)\n",
    "node(6,10,0,0)\n",
    "node(7,10,0,6)\n",
    "node(8,6,0,6)\n",
    "\n",
    "node(9,12,0,0)\n",
    "node(10,16,0,0)\n",
    "node(11,16,0,6)\n",
    "node(12,12,0,6)\n",
    "\n",
    "node(13,18,0,0)\n",
    "node(14,22,0,0)\n",
    "node(15,22,0,6)\n",
    "node(16,18,0,6)\n",
    "#### fc (kgf/cm2)  ###\n",
    "fc=280\n",
    "E=15100*fc**0.5*kgf/cm**2\n",
    "u=0.2\n",
    "e=0.25*m\n",
    "p=2400*kg/m**3\n",
    "section('ElasticMembranePlateSection' , 1 , E , u , e, p)\n",
    "element( 'ShellMITC4' , 1 , 1,2,3,4 , 1 )\n",
    "malla2(1,5,6,7,8,1,6,2,3)\n",
    "malla2(2,9,10,11,12,1,6,0.5,0.75)\n",
    "malla2(3,13,14,15,16,1,6,0.125,0.1875)\n",
    "\n",
    "fixZ(0.0, *[1,1,1,1,1,1], '-tol', 1e-6)\n",
    "fixY(0.0, *[0,1,0,0,0,0], '-tol', 1e-6)"
   ]
  },
  {
   "cell_type": "markdown",
   "metadata": {},
   "source": [
    "**6. Ploteamos el modelo**"
   ]
  },
  {
   "cell_type": "code",
   "execution_count": null,
   "metadata": {
    "colab": {
     "base_uri": "https://localhost:8080/",
     "height": 1000
    },
    "executionInfo": {
     "elapsed": 7763,
     "status": "ok",
     "timestamp": 1632511534136,
     "user": {
      "displayName": "HUMBERTO ALDAIR ROJAS HUAROTO",
      "photoUrl": "https://lh3.googleusercontent.com/a/default-user=s64",
      "userId": "17876067933562411743"
     },
     "user_tz": 300
    },
    "id": "T7cKcODattfg",
    "outputId": "b1297eb6-744c-4e2a-ef90-41328808a35a"
   },
   "outputs": [],
   "source": [
    "opsv.plot_model(node_labels=1,element_labels=0,fig_wi_he=(80,64))"
   ]
  },
  {
   "cell_type": "markdown",
   "metadata": {},
   "source": [
    "**7. Añadimos las cargas en cada muro**"
   ]
  },
  {
   "cell_type": "code",
   "execution_count": null,
   "metadata": {
    "id": "vhPwuKxAqggm"
   },
   "outputs": [],
   "source": [
    "timeSeries('Linear',1)\n",
    "pattern('Plain',1,1)\n",
    "\n",
    "P=10*tonf\n",
    "\n",
    "###  MURO 1  ####\n",
    "load(4,P/2,0.,0.,0.,0.,0.)\n",
    "load(3,P/2,0.,0.,0.,0.,0.)\n",
    "\n",
    "###  MURO 2  ####\n",
    "load(8,P/3,0.,0.,0.,0.,0.)\n",
    "load(19,P/3,0.,0.,0.,0.,0.)\n",
    "load(7,P/3,0.,0.,0.,0.,0.)\n",
    "\n",
    "###  MURO 3  ####\n",
    "load(12,P/9,0.,0.,0.,0.,0.)\n",
    "for i in range(36,43):\n",
    "  load(i,P/9,0.,0.,0.,0.,0.)\n",
    "load(11,P/9,0.,0.,0.,0.,0.)\n",
    "\n",
    "###  MURO 4  ####\n",
    "load(16,P/33,0.,0.,0.,0.,0.)\n",
    "for i in range(161,192):\n",
    "  load(i,P/33,0.,0.,0.,0.,0.)\n",
    "load(15,P/33,0.,0.,0.,0.,0.)"
   ]
  },
  {
   "cell_type": "markdown",
   "metadata": {},
   "source": [
    "**8. Configuramos y realizamos el análisis**"
   ]
  },
  {
   "cell_type": "code",
   "execution_count": null,
   "metadata": {
    "colab": {
     "base_uri": "https://localhost:8080/"
    },
    "executionInfo": {
     "elapsed": 161,
     "status": "ok",
     "timestamp": 1630034650857,
     "user": {
      "displayName": "HUMBERTO ALDAIR ROJAS HUAROTO",
      "photoUrl": "",
      "userId": "17876067933562411743"
     },
     "user_tz": 300
    },
    "id": "XcGmOh7vq3JX",
    "outputId": "5d8b1d04-77f7-46b4-ea44-06e0ece041d2"
   },
   "outputs": [],
   "source": [
    "wipeAnalysis()\n",
    "constraints('Plain')\n",
    "numberer('Plain')\n",
    "system('FullGeneral')\n",
    "algorithm('Linear')\n",
    "integrator('LoadControl',1)\n",
    "analysis('Static')\n",
    "analyze(1)"
   ]
  },
  {
   "cell_type": "markdown",
   "metadata": {},
   "source": [
    "**9. Ploteamos la deformación de los muros**"
   ]
  },
  {
   "cell_type": "code",
   "execution_count": null,
   "metadata": {
    "colab": {
     "base_uri": "https://localhost:8080/",
     "height": 1000
    },
    "executionInfo": {
     "elapsed": 13089,
     "status": "ok",
     "timestamp": 1630031651499,
     "user": {
      "displayName": "HUMBERTO ALDAIR ROJAS HUAROTO",
      "photoUrl": "",
      "userId": "17876067933562411743"
     },
     "user_tz": 300
    },
    "id": "9b3DOmuerFxj",
    "outputId": "f72a18a6-764b-44d3-f5a7-bc27abff509e"
   },
   "outputs": [],
   "source": [
    "opsv.plot_defo(fig_wi_he=(80., 64.),az_el=(-90,0))"
   ]
  },
  {
   "cell_type": "markdown",
   "metadata": {},
   "source": [
    "**10. Obtenemos los dezplazamientos de los nodos extremos de cada muro**"
   ]
  },
  {
   "cell_type": "code",
   "execution_count": null,
   "metadata": {
    "id": "2fVhWC-Sqp3N"
   },
   "outputs": [],
   "source": [
    "disp1 = nodeDisp(3,1)\n",
    "disp2 = nodeDisp(7,1)\n",
    "disp3 = nodeDisp(11,1)\n",
    "disp4 = nodeDisp(15,1)\n",
    "\n",
    "### Desplazamiento Teórico\n",
    "L=4\n",
    "H=6\n",
    "G=E/(2*(1+u))\n",
    "I=e*L**3/12\n",
    "A=5/6*e*L\n",
    "Δ=P*H**3/(3*E*I)+P*H/(G*A)"
   ]
  },
  {
   "cell_type": "markdown",
   "metadata": {},
   "source": [
    "**11. Ploteamos el gráfico de la representacion de la convergencia**"
   ]
  },
  {
   "cell_type": "code",
   "execution_count": null,
   "metadata": {
    "colab": {
     "base_uri": "https://localhost:8080/",
     "height": 656
    },
    "executionInfo": {
     "elapsed": 849,
     "status": "ok",
     "timestamp": 1630035317865,
     "user": {
      "displayName": "HUMBERTO ALDAIR ROJAS HUAROTO",
      "photoUrl": "",
      "userId": "17876067933562411743"
     },
     "user_tz": 300
    },
    "id": "HZ1sW9CsLUxb",
    "outputId": "130a9be9-0c88-4dde-b68f-99623e735261"
   },
   "outputs": [],
   "source": [
    "### Numero de elementos\n",
    "x=[1,4,64,1024]\n",
    "\n",
    "### Desplazamientos\n",
    "y_fea=[disp1/mm,disp2/mm,disp3/mm,disp4/mm]\n",
    "y_teorico=[Δ/mm,Δ/mm,Δ/mm,Δ/mm]\n",
    "\n",
    "### Ploteo \n",
    "fig = plt.figure(figsize=(16, 10))\n",
    "plt.style.use('seaborn')\n",
    "\n",
    "plt.plot(x,y_fea,label=\"FEA\")\n",
    "plt.plot(x,y_teorico,label=\"Teórico\")\n",
    "plt.xscale(\"log\")\n",
    "plt.ylabel(\"Deformación (mm)\",fontsize=15)\n",
    "plt.xlabel(\"Número de elementos en la malla\",fontsize=15)\n",
    "plt.title(\"Convergencia\",fontsize=25)\n",
    "plt.legend(bbox_to_anchor=(0.7, 0.6),fontsize=15)\n",
    "plt.ylim(0,0.4)"
   ]
  },
  {
   "cell_type": "markdown",
   "metadata": {
    "id": "BUDseAWglzMI"
   },
   "source": [
    "## DISCRETIZACIÓN DE MUROS ACOPLADOS"
   ]
  },
  {
   "cell_type": "markdown",
   "metadata": {},
   "source": [
    "**12. Definimos el modelo de un muro acoplado discretizado en elementos shell**"
   ]
  },
  {
   "cell_type": "code",
   "execution_count": null,
   "metadata": {
    "id": "wOUFmOqkJvv5"
   },
   "outputs": [],
   "source": [
    "wipe()\n",
    "model('basic', '-ndm', 3, '-ndf', 6)\n",
    "node(1,0,0,0)\n",
    "node(2,4,0,0)\n",
    "node(3,4,0,24)\n",
    "node(4,0,0,24)\n",
    "node(5,8,0,0)\n",
    "node(6,12,0,0)\n",
    "node(7,12,0,24)\n",
    "node(8,8,0,24)\n",
    "### fc (kg/cm2)  ####\n",
    "fc=280\n",
    "E=15100*fc**(0.5)*kgf/cm**2\n",
    "u=0.2\n",
    "e=0.4*m\n",
    "p=2400*kg/m**3\n",
    "section('ElasticMembranePlateSection' , 1 , E , u , e, p)\n",
    "malla(1,1,2,3,4,1,6,0.8)\n",
    "malla(2,5,6,7,8,1,6,0.8)\n",
    "malla(3,40,229,8,3,1,6,0.8)\n",
    "malla(4,35,234,232,37,1,6,0.8)\n",
    "malla(5,30,239,237,32,1,6,0.8)\n",
    "malla(6,25,244,242,27,1,6,0.8)\n",
    "malla(7,20,249,247,22,1,6,0.8)\n",
    "malla(8,15,254,252,17,1,6,0.8)\n",
    "\n",
    "fixZ(0.0, *[1,1,1,1,1,1], '-tol', 1e-6)\n",
    "fixY(0.0, *[0,1,0,0,0,0], '-tol', 1e-6)"
   ]
  },
  {
   "cell_type": "markdown",
   "metadata": {},
   "source": [
    "**13. Ploteamos el modelo del muro acoplado**"
   ]
  },
  {
   "cell_type": "code",
   "execution_count": null,
   "metadata": {
    "colab": {
     "base_uri": "https://localhost:8080/",
     "height": 1000
    },
    "executionInfo": {
     "elapsed": 4552,
     "status": "ok",
     "timestamp": 1630025608381,
     "user": {
      "displayName": "HUMBERTO ALDAIR ROJAS HUAROTO",
      "photoUrl": "",
      "userId": "17876067933562411743"
     },
     "user_tz": 300
    },
    "id": "wDr2SlaQKCig",
    "outputId": "c976e005-1689-43cd-a1bd-20e83c4b7794"
   },
   "outputs": [],
   "source": [
    "opsv.plot_model(fig_wi_he=(80, 64),az_el=(-90,0))"
   ]
  },
  {
   "cell_type": "markdown",
   "metadata": {},
   "source": [
    "**14. Añadimos las cargas en el muro acoplado**"
   ]
  },
  {
   "cell_type": "code",
   "execution_count": null,
   "metadata": {
    "id": "6JZ0iKQwR0zM"
   },
   "outputs": [],
   "source": [
    "timeSeries('Linear',1)\n",
    "pattern('Plain',1,1)\n",
    "\n",
    "### Peso de la estructura\n",
    "P=221.184*tonf\n",
    "\n",
    "### Parametros de la norma E030\n",
    "Z, S, Tp, Tl, U, R = 0.45, 1, 0.4, 2.5, 1, 6\n",
    "\n",
    "### Periodo de la estructura\n",
    "T=24/60\n",
    "\n",
    "### Aplicacion de las cargas \n",
    "\n",
    "if T<=Tp:\n",
    "  C=2.5\n",
    "elif Tp<T<Tl:\n",
    "  C=2.5*Tp/T\n",
    "elif Tl<=T:\n",
    "  C=2.5*Tp*Tl/T\n",
    "ZUCS=Z*U*C*S\n",
    "V=ZUCS/R*P\n",
    "Pi=[P/6,P/6,P/6,P/6,P/6,P/6]\n",
    "hi=[4,8,12,16,20,24]\n",
    "if T<0.5:\n",
    "  k=1\n",
    "  Suma=sum([Pi[x]*hi[x]**k for x in range(len(Pi))])\n",
    "  α=[Pi[x]*hi[x]**k/Suma for x in range(len(Pi))]\n",
    "  load(70,α[0]*V,0.,0.,0.,0.,0.)\n",
    "  load(65,α[1]*V,0.,0.,0.,0.,0.)\n",
    "  load(60,α[2]*V,0.,0.,0.,0.,0.)\n",
    "  load(55,α[3]*V,0.,0.,0.,0.,0.)\n",
    "  load(50,α[4]*V,0.,0.,0.,0.,0.)\n",
    "  load(4,α[5]*V,0.,0.,0.,0.,0.)\n",
    "else:\n",
    "  k=(0.75+0.5*T)\n",
    "  Suma=sum([Pi[x]*hi[x]**k for x in range(len(Pi))])\n",
    "  α=[Pi[x]*hi[x]**k/Suma for x in range(len(Pi))]\n",
    "  load(70,α[0]*V,0.,0.,0.,0.,0.)\n",
    "  load(65,α[1]*V,0.,0.,0.,0.,0.)\n",
    "  load(60,α[2]*V,0.,0.,0.,0.,0.)\n",
    "  load(55,α[3]*V,0.,0.,0.,0.,0.)\n",
    "  load(50,α[4]*V,0.,0.,0.,0.,0.)\n",
    "  load(4,α[5]*V,0.,0.,0.,0.,0.)"
   ]
  },
  {
   "cell_type": "markdown",
   "metadata": {},
   "source": [
    "**15. Configuramos y realizamos el análisis**"
   ]
  },
  {
   "cell_type": "code",
   "execution_count": null,
   "metadata": {
    "colab": {
     "base_uri": "https://localhost:8080/"
    },
    "executionInfo": {
     "elapsed": 206,
     "status": "ok",
     "timestamp": 1630035623628,
     "user": {
      "displayName": "HUMBERTO ALDAIR ROJAS HUAROTO",
      "photoUrl": "",
      "userId": "17876067933562411743"
     },
     "user_tz": 300
    },
    "id": "p6FBkJzTSApt",
    "outputId": "08fc9189-edea-4813-839e-173122919dbb"
   },
   "outputs": [],
   "source": [
    "wipeAnalysis()\n",
    "constraints('Plain')\n",
    "numberer('Plain')\n",
    "system('FullGeneral')\n",
    "algorithm('Linear')\n",
    "integrator('LoadControl',1)\n",
    "analysis('Static')\n",
    "analyze(1)"
   ]
  },
  {
   "cell_type": "markdown",
   "metadata": {},
   "source": [
    "**16. Ploteamos la deformación del muro acoplado**"
   ]
  },
  {
   "cell_type": "code",
   "execution_count": null,
   "metadata": {
    "colab": {
     "base_uri": "https://localhost:8080/",
     "height": 1000
    },
    "executionInfo": {
     "elapsed": 5222,
     "status": "ok",
     "timestamp": 1630033266007,
     "user": {
      "displayName": "HUMBERTO ALDAIR ROJAS HUAROTO",
      "photoUrl": "",
      "userId": "17876067933562411743"
     },
     "user_tz": 300
    },
    "id": "z2N8YL9GSC7d",
    "outputId": "a8fb15cc-4189-41fa-b26a-17c28513dcda"
   },
   "outputs": [],
   "source": [
    "opsv.plot_defo(fig_wi_he=(80., 64.),az_el=(-90,0))"
   ]
  },
  {
   "cell_type": "markdown",
   "metadata": {},
   "source": [
    "**17. Obtenemos los dezplazamientos de los 4 y 50**"
   ]
  },
  {
   "cell_type": "code",
   "execution_count": null,
   "metadata": {
    "colab": {
     "base_uri": "https://localhost:8080/"
    },
    "executionInfo": {
     "elapsed": 148,
     "status": "ok",
     "timestamp": 1630035626562,
     "user": {
      "displayName": "HUMBERTO ALDAIR ROJAS HUAROTO",
      "photoUrl": "",
      "userId": "17876067933562411743"
     },
     "user_tz": 300
    },
    "id": "AmIhf2jpTxfZ",
    "outputId": "0bc44bdb-6de9-412a-b2bb-2368c247d537"
   },
   "outputs": [],
   "source": [
    "### Hallamos la deriva del ultimo nivel\n",
    "disp1 = nodeDisp(4,1)\n",
    "disp2 = nodeDisp(50,1)\n",
    "deriva_maxima=(disp1-disp2)/4*0.75*R\n",
    "### Deriva maxima segun la norma E030\n",
    "deriva_admisible=0.007\n",
    "\n",
    "### Dezplazamiento del nodo 1 evaluado en Sap2000\n",
    "disp1_sap2000=0.00194\n",
    "\n",
    "### Error calculado en %\n",
    "error=(disp1_sap2000-disp1)/disp1_sap2000*100\n",
    "\n",
    "print(deriva_maxima)\n",
    "print(error)"
   ]
  },
  {
   "cell_type": "code",
   "execution_count": null,
   "metadata": {},
   "outputs": [],
   "source": []
  },
  {
   "cell_type": "code",
   "execution_count": null,
   "metadata": {},
   "outputs": [],
   "source": []
  }
 ],
 "metadata": {
  "colab": {
   "authorship_tag": "ABX9TyPv59rdSwPrciWxjemQkwUg",
   "collapsed_sections": [],
   "name": "Discretización_Muros.ipynb",
   "provenance": []
  },
  "kernelspec": {
   "display_name": "Python 3 (ipykernel)",
   "language": "python",
   "name": "python3"
  },
  "language_info": {
   "codemirror_mode": {
    "name": "ipython",
    "version": 3
   },
   "file_extension": ".py",
   "mimetype": "text/x-python",
   "name": "python",
   "nbconvert_exporter": "python",
   "pygments_lexer": "ipython3",
   "version": "3.8.12"
  }
 },
 "nbformat": 4,
 "nbformat_minor": 4
}
